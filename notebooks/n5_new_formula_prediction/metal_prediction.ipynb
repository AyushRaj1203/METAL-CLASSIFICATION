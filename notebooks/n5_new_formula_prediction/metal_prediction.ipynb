{
 "cells": [
  {
   "cell_type": "code",
   "execution_count": 1,
   "metadata": {},
   "outputs": [],
   "source": [
    "import pickle\n",
    "import pandas as pd\n",
    "from CBFV import composition\n",
    "from sklearn.preprocessing import normalize"
   ]
  },
  {
   "cell_type": "code",
   "execution_count": 3,
   "metadata": {},
   "outputs": [],
   "source": [
    "# Load the model and accuracy from the pickle file\n",
    "with open('../../data/d4_model_development/model.pkl', 'rb') as file:\n",
    "    loaded_model_info = pickle.load(file)"
   ]
  },
  {
   "cell_type": "code",
   "execution_count": 4,
   "metadata": {},
   "outputs": [],
   "source": [
    "# Access the model\n",
    "model_loaded = loaded_model_info[\"model\"]\n",
    "scaler_loaded = loaded_model_info[\"scaler\"]\n",
    "accuracy_val_loaded = loaded_model_info[\"accuracy_val\"]\n",
    "description_loaded = loaded_model_info[\"description\"]"
   ]
  },
  {
   "cell_type": "code",
   "execution_count": 5,
   "metadata": {},
   "outputs": [],
   "source": [
    "# Function to predict metal or not\n",
    "def predict_metal(formula, model, scaler):\n",
    "    # Generate features for the formula\n",
    "    input = pd.DataFrame({'formula': [formula], 'target': [0]})\n",
    "    features, _, _, _ = composition.generate_features(input, elem_prop='magpie', drop_duplicates=False, extend_features=True, sum_feat=True)\n",
    "\n",
    "    # Scale and normalize the features\n",
    "    features_scaled = scaler.transform(features)\n",
    "    features_normalized = normalize(features_scaled)\n",
    "\n",
    "    # Predict using the classifier\n",
    "    prediction = model.predict(features_normalized)\n",
    "    # Map the prediction to the corresponding label\n",
    "    prediction_label = 'Metal' if prediction[0] == 1 else 'Non-Metal'\n",
    "    return prediction_label\n"
   ]
  },
  {
   "cell_type": "code",
   "execution_count": 9,
   "metadata": {},
   "outputs": [
    {
     "name": "stderr",
     "output_type": "stream",
     "text": [
      "Processing Input Data: 100%|██████████| 1/1 [00:00<00:00, 1837.19it/s]\n"
     ]
    },
    {
     "name": "stdout",
     "output_type": "stream",
     "text": [
      "\tFeaturizing Compositions...\n"
     ]
    },
    {
     "name": "stderr",
     "output_type": "stream",
     "text": [
      "Assigning Features...: 100%|██████████| 1/1 [00:00<?, ?it/s]"
     ]
    },
    {
     "name": "stdout",
     "output_type": "stream",
     "text": [
      "\tCreating Pandas Objects...\n",
      "Prediction for Formula TmGaNi2 is: Metal\n"
     ]
    },
    {
     "name": "stderr",
     "output_type": "stream",
     "text": [
      "\n"
     ]
    }
   ],
   "source": [
    "# Prediction for new Formulas\n",
    "\n",
    "formula_input = input(\"Enter the chemical formula: \")\n",
    "\n",
    "prediction_result = predict_metal(formula_input, model_loaded, scaler_loaded)\n",
    "print(\"Prediction for Formula\", formula_input, \"is:\", prediction_result)"
   ]
  },
  {
   "cell_type": "code",
   "execution_count": null,
   "metadata": {},
   "outputs": [],
   "source": []
  }
 ],
 "metadata": {
  "kernelspec": {
   "display_name": "Python 3",
   "language": "python",
   "name": "python3"
  },
  "language_info": {
   "codemirror_mode": {
    "name": "ipython",
    "version": 3
   },
   "file_extension": ".py",
   "mimetype": "text/x-python",
   "name": "python",
   "nbconvert_exporter": "python",
   "pygments_lexer": "ipython3",
   "version": "3.11.3"
  }
 },
 "nbformat": 4,
 "nbformat_minor": 2
}
