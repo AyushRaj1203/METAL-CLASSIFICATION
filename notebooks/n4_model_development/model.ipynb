{
 "cells": [
  {
   "cell_type": "code",
   "execution_count": 1,
   "metadata": {},
   "outputs": [],
   "source": [
    "# Import Libraries\n",
    "\n",
    "import pandas as pd\n",
    "from sklearn.preprocessing import StandardScaler\n",
    "from sklearn.preprocessing import normalize\n",
    "from sklearn.ensemble import RandomForestClassifier\n",
    "from sklearn.metrics import accuracy_score\n",
    "import matplotlib.pyplot as plt\n",
    "import seaborn as sns\n",
    "from sklearn.metrics import confusion_matrix, classification_report"
   ]
  },
  {
   "cell_type": "code",
   "execution_count": 2,
   "metadata": {},
   "outputs": [],
   "source": [
    "# Load the Featurized Data\n",
    "\n",
    "X_train_unscaled = pd.read_csv('../../data/d3_data_featurization/train_featurized.csv')\n",
    "X_val_unscaled = pd.read_csv('../../data/d3_data_featurization/val_featurized.csv')\n",
    "X_test_unscaled = pd.read_csv('../../data/d3_data_featurization/test_featurized.csv')\n",
    "y_train = pd.read_csv('../../data/d3_data_featurization/train_labels.csv')\n",
    "y_val = pd.read_csv('../../data/d3_data_featurization/val_labels.csv')\n",
    "y_test = pd.read_csv('../../data/d3_data_featurization/test_labels.csv')"
   ]
  },
  {
   "cell_type": "code",
   "execution_count": 3,
   "metadata": {},
   "outputs": [],
   "source": [
    "# Scaling the Data\n",
    "\n",
    "scaler = StandardScaler()\n",
    "\n",
    "X_train = scaler.fit_transform(X_train_unscaled)\n",
    "X_val = scaler.transform(X_val_unscaled)\n",
    "X_test = scaler.transform(X_test_unscaled)\n",
    "\n",
    "# Normalizing the Data\n",
    "\n",
    "X_train = normalize(X_train)\n",
    "X_val = normalize(X_val)\n",
    "X_test = normalize(X_test)"
   ]
  },
  {
   "cell_type": "code",
   "execution_count": 4,
   "metadata": {},
   "outputs": [
    {
     "name": "stdout",
     "output_type": "stream",
     "text": [
      "Count of Non-Metals (0): 7949\n",
      "Count of Metals (1): 7657\n"
     ]
    }
   ],
   "source": [
    "# Load the test data\n",
    "target_column_name = 'target'  # Change this to your actual target column name\n",
    "\n",
    "# Convert y_test to a pandas Series by selecting the target column\n",
    "y_test_series = y_test[target_column_name]\n",
    "\n",
    "# Count the number of metals and non-metals\n",
    "counts = y_test_series.value_counts()\n",
    "\n",
    "# Print the counts\n",
    "print(\"Count of Non-Metals (0):\", counts.get(0, 0))\n",
    "print(\"Count of Metals (1):\", counts.get(1, 0))\n"
   ]
  },
  {
   "cell_type": "code",
   "execution_count": 5,
   "metadata": {},
   "outputs": [
    {
     "name": "stderr",
     "output_type": "stream",
     "text": [
      "c:\\Users\\aaayu\\AppData\\Local\\Programs\\Python\\Python311\\Lib\\site-packages\\sklearn\\base.py:1473: DataConversionWarning: A column-vector y was passed when a 1d array was expected. Please change the shape of y to (n_samples,), for example using ravel().\n",
      "  return fit_method(estimator, *args, **kwargs)\n"
     ]
    },
    {
     "name": "stdout",
     "output_type": "stream",
     "text": [
      "RANDOM FOREST Accuracy on Validation Set: 0.8540945790080738\n"
     ]
    }
   ],
   "source": [
    "# Initialize the Clssifier\n",
    "rf_classifier = RandomForestClassifier(n_estimators=100, random_state=42)\n",
    "\n",
    "# Fitting the Classifier\n",
    "rf_classifier.fit(X_train, y_train)\n",
    "\n",
    "# Make Predictions on the Validation Set\n",
    "y_val_pred_rf = rf_classifier.predict(X_val)\n",
    "\n",
    "# Evaluate the model on Validation Set\n",
    "accuracy_val_rf = accuracy_score(y_val, y_val_pred_rf)\n",
    "print(\"RANDOM FOREST Accuracy on Validation Set:\", accuracy_val_rf)"
   ]
  },
  {
   "cell_type": "code",
   "execution_count": 6,
   "metadata": {},
   "outputs": [
    {
     "name": "stdout",
     "output_type": "stream",
     "text": [
      "RANDOM FOREST Accuracy on Testing Test: 0.8542868127643214\n"
     ]
    }
   ],
   "source": [
    "# Make Predictions on the Testing Set\n",
    "y_test_pred_rf = rf_classifier.predict(X_test)\n",
    "\n",
    "# Make Predictions on test file\n",
    "test_df = pd.read_csv(\"../../data/d3_data_featurization/test.csv\")\n",
    "test_df['predicted'] = y_test_pred_rf\n",
    "\n",
    "# Evaluate the model on Testing Set\n",
    "accuracy_test_rf = accuracy_score(y_test, y_test_pred_rf)\n",
    "print(\"RANDOM FOREST Accuracy on Testing Test:\", accuracy_test_rf)\n",
    "\n",
    "# Save the updated DataFrame back to a CSV file\n",
    "test_df.to_csv(\"../../data/d4_model_development/predictions.csv\", index=False)"
   ]
  },
  {
   "cell_type": "code",
   "execution_count": 7,
   "metadata": {},
   "outputs": [
    {
     "name": "stdout",
     "output_type": "stream",
     "text": [
      "              precision    recall  f1-score   support\n",
      "\n",
      "   Non-Metal       0.83      0.90      0.86      7949\n",
      "       Metal       0.88      0.81      0.85      7657\n",
      "\n",
      "    accuracy                           0.85     15606\n",
      "   macro avg       0.86      0.85      0.85     15606\n",
      "weighted avg       0.86      0.85      0.85     15606\n",
      "\n"
     ]
    }
   ],
   "source": [
    "# Print the Classification Report\n",
    "\n",
    "report = classification_report(y_test, y_test_pred_rf, target_names=['Non-Metal', 'Metal'])\n",
    "print(report)"
   ]
  },
  {
   "cell_type": "code",
   "execution_count": 8,
   "metadata": {},
   "outputs": [
    {
     "data": {
      "image/png": "[encoded data removed]",
      "text/plain": [
       "<Figure size 1000x700 with 2 Axes>"
      ]
     },
     "metadata": {},
     "output_type": "display_data"
    }
   ],
   "source": [
    "# Plot Confusion Matrix\n",
    "cm = confusion_matrix(y_test, y_test_pred_rf)\n",
    "plt.figure(figsize=(10, 7))\n",
    "sns.heatmap(cm, annot=True, fmt='d', cmap='Blues', xticklabels=['Non-Metal', 'Metal'], yticklabels=['Non-Metal', 'Metal'])\n",
    "plt.xlabel('Predicted')\n",
    "plt.ylabel('Actual')\n",
    "plt.title('Confusion Matrix')\n",
    "plt.savefig(\"../../data/d4_model_development/confusion_matrix.png\")\n",
    "plt.show()"
   ]
  },
  {
   "cell_type": "code",
   "execution_count": 13,
   "metadata": {},
   "outputs": [],
   "source": [
    "import numpy as np\n",
    "import joblib\n",
    "\n",
    "def quantize_forest(model, precision=2):\n",
    "    for estimator in model.estimators_:\n",
    "        estimator.tree_.value[:] = np.round(estimator.tree_.value, decimals=precision)\n",
    "        estimator.tree_.impurity[:] = np.round(estimator.tree_.impurity, decimals=precision)\n",
    "        estimator.tree_.n_node_samples[:] = np.round(estimator.tree_.n_node_samples, decimals=precision)\n",
    "    return model"
   ]
  },
  {
   "cell_type": "code",
   "execution_count": 16,
   "metadata": {},
   "outputs": [
    {
     "data": {
      "text/plain": [
       "['../../data/d4_model_development/model.pkl']"
      ]
     },
     "execution_count": 16,
     "metadata": {},
     "output_type": "execute_result"
    }
   ],
   "source": [
    "# Quantize the model\n",
    "quantized_model = quantize_forest(rf_classifier, precision=2)\n",
    "\n",
    "# Bundle the model and scaler together\n",
    "model_and_scaler = {\n",
    "    'model': quantized_model,\n",
    "    'scaler': scaler\n",
    "}\n",
    "\n",
    "# Save the bundled model and scaler\n",
    "joblib.dump(model_and_scaler, '../../data/d4_model_development/model.pkl', compress=3)"
   ]
  },
  {
   "cell_type": "code",
   "execution_count": 9,
   "metadata": {},
   "outputs": [],
   "source": [
    "# Create a dictionary to hold the model and the accuracy\n",
    "model_info = {\n",
    "    \"model\": rf_classifier,\n",
    "    \"scaler\": scaler\n",
    "}"
   ]
  },
  {
   "cell_type": "code",
   "execution_count": 10,
   "metadata": {},
   "outputs": [],
   "source": [
    "# Creating a pickle file\n",
    "\n",
    "import pickle\n",
    "\n",
    "# Save to a pickle file\n",
    "with open('../../data/d4_model_development/model.pkl', 'wb') as file:\n",
    "    pickle.dump(model_info, file)"
   ]
  },
  {
   "cell_type": "code",
   "execution_count": null,
   "metadata": {},
   "outputs": [],
   "source": []
  }
 ],
 "metadata": {
  "kernelspec": {
   "display_name": "Python 3",
   "language": "python",
   "name": "python3"
  },
  "language_info": {
   "codemirror_mode": {
    "name": "ipython",
    "version": 3
   },
   "file_extension": ".py",
   "mimetype": "text/x-python",
   "name": "python",
   "nbconvert_exporter": "python",
   "pygments_lexer": "ipython3",
   "version": "3.11.3"
  }
 },
 "nbformat": 4,
 "nbformat_minor": 2
}
