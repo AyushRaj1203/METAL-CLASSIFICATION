{
 "cells": [
  {
   "cell_type": "code",
   "execution_count": 17,
   "metadata": {},
   "outputs": [],
   "source": [
    "# Import Libraries\n",
    "\n",
    "import pandas as pd\n",
    "from sklearn import preprocessing\n",
    "from sklearn.model_selection import train_test_split\n",
    "from CBFV import composition"
   ]
  },
  {
   "cell_type": "code",
   "execution_count": 2,
   "metadata": {},
   "outputs": [],
   "source": [
    "# Load the preprocessed data\n",
    "\n",
    "df = pd.read_csv(\"../../data/d2_data_preprocessing/preprocessed_data.csv\")"
   ]
  },
  {
   "cell_type": "code",
   "execution_count": 5,
   "metadata": {},
   "outputs": [
    {
     "data": {
      "text/html": [
       "<div>\n",
       "<style scoped>\n",
       "    .dataframe tbody tr th:only-of-type {\n",
       "        vertical-align: middle;\n",
       "    }\n",
       "\n",
       "    .dataframe tbody tr th {\n",
       "        vertical-align: top;\n",
       "    }\n",
       "\n",
       "    .dataframe thead th {\n",
       "        text-align: right;\n",
       "    }\n",
       "</style>\n",
       "<table border=\"1\" class=\"dataframe\">\n",
       "  <thead>\n",
       "    <tr style=\"text-align: right;\">\n",
       "      <th></th>\n",
       "      <th>formula</th>\n",
       "      <th>target</th>\n",
       "    </tr>\n",
       "  </thead>\n",
       "  <tbody>\n",
       "    <tr>\n",
       "      <th>0</th>\n",
       "      <td>Cs3Nd(MoO4)3</td>\n",
       "      <td>False</td>\n",
       "    </tr>\n",
       "    <tr>\n",
       "      <th>1</th>\n",
       "      <td>Ba(PdS2)2</td>\n",
       "      <td>False</td>\n",
       "    </tr>\n",
       "    <tr>\n",
       "      <th>2</th>\n",
       "      <td>Na7Ta3Zn(SiO4)6</td>\n",
       "      <td>False</td>\n",
       "    </tr>\n",
       "    <tr>\n",
       "      <th>3</th>\n",
       "      <td>TiZnBiO5</td>\n",
       "      <td>True</td>\n",
       "    </tr>\n",
       "    <tr>\n",
       "      <th>4</th>\n",
       "      <td>Na2YNb3Si4(SO12)2</td>\n",
       "      <td>False</td>\n",
       "    </tr>\n",
       "  </tbody>\n",
       "</table>\n",
       "</div>"
      ],
      "text/plain": [
       "             formula  target\n",
       "0       Cs3Nd(MoO4)3   False\n",
       "1          Ba(PdS2)2   False\n",
       "2    Na7Ta3Zn(SiO4)6   False\n",
       "3           TiZnBiO5    True\n",
       "4  Na2YNb3Si4(SO12)2   False"
      ]
     },
     "execution_count": 5,
     "metadata": {},
     "output_type": "execute_result"
    }
   ],
   "source": [
    "# Rename Columns\n",
    "\n",
    "df.rename(columns={'Formula': 'formula', 'Is Metal': 'target'}, inplace=True)\n",
    "df.head()"
   ]
  },
  {
   "cell_type": "code",
   "execution_count": 6,
   "metadata": {},
   "outputs": [],
   "source": [
    "# Encoding Target\n",
    "\n",
    "le = preprocessing.LabelEncoder()\n",
    "df.target = le.fit_transform(df.target)"
   ]
  },
  {
   "cell_type": "code",
   "execution_count": 7,
   "metadata": {},
   "outputs": [
    {
     "name": "stdout",
     "output_type": "stream",
     "text": [
      "Training set Shape: (72826, 2)\n",
      "Testing set Shape: (15606, 2)\n",
      "Validation set Shape: (15606, 2)\n"
     ]
    }
   ],
   "source": [
    "# Split the data\n",
    "\n",
    "# Split the data into training (70%) and temporary set (30%)\n",
    "train, test_val = train_test_split(df, test_size=0.3, random_state=42)\n",
    "\n",
    "# Split the temporary set into testing (50%) and validation (50%)\n",
    "test, val = train_test_split(test_val, test_size=0.5, random_state=42)\n",
    "\n",
    "# Check the shape of each set\n",
    "print(\"Training set Shape:\", train.shape)\n",
    "print(\"Testing set Shape:\", test.shape)\n",
    "print(\"Validation set Shape:\", val.shape)\n",
    "\n",
    "# Save the test and val into separate CSV files\n",
    "train.to_csv(\"../../data/d3_data_featurization/train.csv\", index=False)\n",
    "test.to_csv(\"../../data/d3_data_featurization/test.csv\", index=False)\n",
    "val.to_csv(\"../../data/d3_data_featurization/val.csv\", index=False)\n"
   ]
  },
  {
   "cell_type": "code",
   "execution_count": 8,
   "metadata": {},
   "outputs": [
    {
     "name": "stderr",
     "output_type": "stream",
     "text": [
      "Processing Input Data: 100%|██████████| 72826/72826 [00:03<00:00, 18917.97it/s]\n"
     ]
    },
    {
     "name": "stdout",
     "output_type": "stream",
     "text": [
      "\tFeaturizing Compositions...\n"
     ]
    },
    {
     "name": "stderr",
     "output_type": "stream",
     "text": [
      "Assigning Features...: 100%|██████████| 72826/72826 [00:07<00:00, 10175.00it/s]\n"
     ]
    },
    {
     "name": "stdout",
     "output_type": "stream",
     "text": [
      "\tCreating Pandas Objects...\n"
     ]
    },
    {
     "name": "stderr",
     "output_type": "stream",
     "text": [
      "Processing Input Data: 100%|██████████| 15606/15606 [00:00<00:00, 18665.56it/s]\n"
     ]
    },
    {
     "name": "stdout",
     "output_type": "stream",
     "text": [
      "\tFeaturizing Compositions...\n"
     ]
    },
    {
     "name": "stderr",
     "output_type": "stream",
     "text": [
      "Assigning Features...: 100%|██████████| 15606/15606 [00:01<00:00, 10063.09it/s]\n"
     ]
    },
    {
     "name": "stdout",
     "output_type": "stream",
     "text": [
      "\tCreating Pandas Objects...\n"
     ]
    },
    {
     "name": "stderr",
     "output_type": "stream",
     "text": [
      "Processing Input Data: 100%|██████████| 15606/15606 [00:01<00:00, 11101.31it/s]\n"
     ]
    },
    {
     "name": "stdout",
     "output_type": "stream",
     "text": [
      "\tFeaturizing Compositions...\n"
     ]
    },
    {
     "name": "stderr",
     "output_type": "stream",
     "text": [
      "Assigning Features...: 100%|██████████| 15606/15606 [00:01<00:00, 10212.57it/s]\n"
     ]
    },
    {
     "name": "stdout",
     "output_type": "stream",
     "text": [
      "\tCreating Pandas Objects...\n"
     ]
    }
   ],
   "source": [
    "# Featurizing\n",
    "\n",
    "X_train_unscaled, y_train, formulas_train, skipped_train = composition.generate_features(train, elem_prop='magpie', drop_duplicates=False, extend_features=True, sum_feat=True)\n",
    "\n",
    "X_val_unscaled, y_val, formulas_val, skipped_val = composition.generate_features(val, elem_prop='magpie', drop_duplicates=False, extend_features=True, sum_feat=True)\n",
    "\n",
    "X_test_unscaled, y_test, formulas_test, skipped_test = composition.generate_features(test, elem_prop='magpie', drop_duplicates=False, extend_features=True, sum_feat=True)"
   ]
  },
  {
   "cell_type": "code",
   "execution_count": 16,
   "metadata": {},
   "outputs": [],
   "source": [
    "# Save the featurized data\n",
    "\n",
    "X_train_unscaled.to_csv('../../data/d3_data_featurization/train_featurized.csv', index=False)\n",
    "X_val_unscaled.to_csv('../../data/d3_data_featurization/val_featurized.csv', index=False)\n",
    "X_test_unscaled.to_csv('../../data/d3_data_featurization/test_featurized.csv', index=False)\n",
    "y_train.to_csv('../../data/d3_data_featurization/train_labels.csv', index=False)\n",
    "y_val.to_csv('../../data/d3_data_featurization/val_labels.csv', index=False)\n",
    "y_test.to_csv('../../data/d3_data_featurization/test_labels.csv', index=False)"
   ]
  },
  {
   "cell_type": "code",
   "execution_count": null,
   "metadata": {},
   "outputs": [],
   "source": []
  }
 ],
 "metadata": {
  "kernelspec": {
   "display_name": "Python 3",
   "language": "python",
   "name": "python3"
  },
  "language_info": {
   "codemirror_mode": {
    "name": "ipython",
    "version": 3
   },
   "file_extension": ".py",
   "mimetype": "text/x-python",
   "name": "python",
   "nbconvert_exporter": "python",
   "pygments_lexer": "ipython3",
   "version": "3.11.3"
  }
 },
 "nbformat": 4,
 "nbformat_minor": 2
}
