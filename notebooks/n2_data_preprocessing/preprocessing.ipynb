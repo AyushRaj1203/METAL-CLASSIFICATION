{
 "cells": [
  {
   "cell_type": "code",
   "execution_count": 1,
   "metadata": {},
   "outputs": [],
   "source": [
    "# Import Libraries\n",
    "\n",
    "import pandas as pd"
   ]
  },
  {
   "cell_type": "code",
   "execution_count": 6,
   "metadata": {},
   "outputs": [],
   "source": [
    "# Load the dataset\n",
    "\n",
    "df = pd.read_csv(\"../../data/d1_data_extraction/material_data.csv\")"
   ]
  },
  {
   "cell_type": "code",
   "execution_count": 7,
   "metadata": {},
   "outputs": [
    {
     "data": {
      "text/html": [
       "<div>\n",
       "<style scoped>\n",
       "    .dataframe tbody tr th:only-of-type {\n",
       "        vertical-align: middle;\n",
       "    }\n",
       "\n",
       "    .dataframe tbody tr th {\n",
       "        vertical-align: top;\n",
       "    }\n",
       "\n",
       "    .dataframe thead th {\n",
       "        text-align: right;\n",
       "    }\n",
       "</style>\n",
       "<table border=\"1\" class=\"dataframe\">\n",
       "  <thead>\n",
       "    <tr style=\"text-align: right;\">\n",
       "      <th></th>\n",
       "      <th>Formula</th>\n",
       "      <th>Is Metal</th>\n",
       "    </tr>\n",
       "  </thead>\n",
       "  <tbody>\n",
       "    <tr>\n",
       "      <th>0</th>\n",
       "      <td>Cs3Nd(MoO4)3</td>\n",
       "      <td>False</td>\n",
       "    </tr>\n",
       "    <tr>\n",
       "      <th>1</th>\n",
       "      <td>Ba(PdS2)2</td>\n",
       "      <td>False</td>\n",
       "    </tr>\n",
       "    <tr>\n",
       "      <th>2</th>\n",
       "      <td>Na7Ta3Zn(SiO4)6</td>\n",
       "      <td>False</td>\n",
       "    </tr>\n",
       "    <tr>\n",
       "      <th>3</th>\n",
       "      <td>TiZnBiO5</td>\n",
       "      <td>True</td>\n",
       "    </tr>\n",
       "    <tr>\n",
       "      <th>4</th>\n",
       "      <td>Na2YNb3Si4(SO12)2</td>\n",
       "      <td>False</td>\n",
       "    </tr>\n",
       "  </tbody>\n",
       "</table>\n",
       "</div>"
      ],
      "text/plain": [
       "             Formula Is Metal\n",
       "0       Cs3Nd(MoO4)3    False\n",
       "1          Ba(PdS2)2    False\n",
       "2    Na7Ta3Zn(SiO4)6    False\n",
       "3           TiZnBiO5     True\n",
       "4  Na2YNb3Si4(SO12)2    False"
      ]
     },
     "execution_count": 7,
     "metadata": {},
     "output_type": "execute_result"
    }
   ],
   "source": [
    "# Keep Required Columns\n",
    "\n",
    "\n",
    "df = df[['Formula', 'Is Metal']]\n",
    "df.head()\n"
   ]
  },
  {
   "cell_type": "code",
   "execution_count": 8,
   "metadata": {},
   "outputs": [
    {
     "name": "stdout",
     "output_type": "stream",
     "text": [
      "Formula     3\n",
      "Is Metal    8\n",
      "dtype: int64\n",
      "Formula     0\n",
      "Is Metal    0\n",
      "dtype: int64\n"
     ]
    }
   ],
   "source": [
    "# Handling Missing Values\n",
    "\n",
    "print(df.isna().sum())\n",
    "\n",
    "df = df.dropna()\n",
    "\n",
    "print(df.isna().sum())"
   ]
  },
  {
   "cell_type": "code",
   "execution_count": 17,
   "metadata": {},
   "outputs": [
    {
     "name": "stdout",
     "output_type": "stream",
     "text": [
      "Shape Before Remving Duplicates:  (153224, 2)\n",
      "Duplicate formulas found\n",
      ".\n",
      ".\n",
      "Duplicate formulas removed\n",
      ".\n",
      ".\n",
      "No duplicate formulas found.\n",
      "Shape After Remving Duplicates:  (104038, 2)\n"
     ]
    }
   ],
   "source": [
    "# HANDLING DUPLICATES\n",
    "\n",
    "# Shape before Removing Duplicates\n",
    "print(\"Shape Before Remving Duplicates: \", df.shape)\n",
    "\n",
    "\n",
    "# Checking Duplicates Before Removing\n",
    "duplicate_formulas = df[df['Formula'].duplicated(keep=False)].sort_values(by='Formula')\n",
    "if not duplicate_formulas.empty:\n",
    "    print(\"Duplicate formulas found\")\n",
    "    print(\".\")\n",
    "    print(\".\")\n",
    "else:\n",
    "    print(\"No duplicate formulas found.\")\n",
    "\n",
    "\n",
    "# Removing Duplicates\n",
    "data_unique = df.drop_duplicates(subset='Formula', keep='first')\n",
    "\n",
    "print(\"Duplicate formulas removed\")\n",
    "print(\".\")\n",
    "print(\".\")\n",
    "\n",
    "# Checking Duplicates After Removing\n",
    "duplicate_formulas = data_unique[data_unique['Formula'].duplicated(keep=False)].sort_values(by='Formula')\n",
    "\n",
    "if not duplicate_formulas.empty:\n",
    "    print(\"Duplicate formulas found\")\n",
    "    print(duplicate_formulas)\n",
    "else:\n",
    "    print(\"No duplicate formulas found.\")\n",
    "\n",
    "\n",
    "# Shape before Removing Duplicates\n",
    "print(\"Shape After Remving Duplicates: \", data_unique.shape)"
   ]
  },
  {
   "cell_type": "code",
   "execution_count": 18,
   "metadata": {},
   "outputs": [
    {
     "name": "stderr",
     "output_type": "stream",
     "text": [
      "C:\\Users\\aaayu\\AppData\\Local\\Temp\\ipykernel_9180\\1841644478.py:2: SettingWithCopyWarning: \n",
      "A value is trying to be set on a copy of a slice from a DataFrame\n",
      "\n",
      "See the caveats in the documentation: https://pandas.pydata.org/pandas-docs/stable/user_guide/indexing.html#returning-a-view-versus-a-copy\n",
      "  data_unique.drop(indices_to_drop, inplace=True)\n"
     ]
    }
   ],
   "source": [
    "indices_to_drop = data_unique[data_unique['Formula'].isin(['2-Feb', '3-Feb', '4-Feb'])].index\n",
    "data_unique.drop(indices_to_drop, inplace=True)"
   ]
  },
  {
   "cell_type": "code",
   "execution_count": 19,
   "metadata": {},
   "outputs": [
    {
     "data": {
      "text/plain": [
       "(104038, 2)"
      ]
     },
     "execution_count": 19,
     "metadata": {},
     "output_type": "execute_result"
    }
   ],
   "source": [
    "data_unique.shape"
   ]
  },
  {
   "cell_type": "code",
   "execution_count": 22,
   "metadata": {},
   "outputs": [],
   "source": [
    "data_unique.to_csv('../../data/d2_data_preprocessing/preprocessed_data.csv', index=False)"
   ]
  },
  {
   "cell_type": "code",
   "execution_count": null,
   "metadata": {},
   "outputs": [],
   "source": []
  }
 ],
 "metadata": {
  "kernelspec": {
   "display_name": "Python 3",
   "language": "python",
   "name": "python3"
  },
  "language_info": {
   "codemirror_mode": {
    "name": "ipython",
    "version": 3
   },
   "file_extension": ".py",
   "mimetype": "text/x-python",
   "name": "python",
   "nbconvert_exporter": "python",
   "pygments_lexer": "ipython3",
   "version": "3.11.3"
  }
 },
 "nbformat": 4,
 "nbformat_minor": 2
}
